{
 "cells": [
  {
   "cell_type": "markdown",
   "id": "7918ecfd",
   "metadata": {},
   "source": [
    "# Extract surnames from church books index pages"
   ]
  },
  {
   "cell_type": "code",
   "execution_count": 4,
   "id": "8854ee55",
   "metadata": {},
   "outputs": [],
   "source": [
    "from bs4 import BeautifulSoup\n",
    "import lxml\n",
    "import pandas as pd\n",
    "import numpy as np\n",
    "from PIL import Image, ImageDraw"
   ]
  },
  {
   "cell_type": "markdown",
   "id": "51fef2d2",
   "metadata": {},
   "source": [
    "## Load annotated index pages \n",
    "Data annotated on transkribus and exported to xml"
   ]
  },
  {
   "cell_type": "code",
   "execution_count": 20,
   "id": "905ab448",
   "metadata": {},
   "outputs": [],
   "source": [
    "xml_filenames = [\"transkribus_data/ground_truth/Braian_Pages/Braian_Pages/page/eaa1216_001_0000275_00336_m.xml\",\n",
    "                 \"transkribus_data/ground_truth/Braian_Pages/Braian_Pages/page/eaa1216_001_0000275_00337_m.xml\",\n",
    "                 \"transkribus_data/ground_truth/Aitor_Pages_transkribus_/Aitor_Pages_transkribus/page/eaa1216_001_0000275_00338_m.xml\",\n",
    "                 \"transkribus_data/ground_truth/Aitor_Pages_transkribus_/Aitor_Pages_transkribus/page/eaa1216_001_0000275_00339_m.xml\",\n",
    "#                  \"transkribus_data/ground_truth/index_pages_ML/index_pages_ML/page/eaa1216_001_0000275_00340_m.xml\",\n",
    "#                  \"transkribus_data/ground_truth/index_pages_ML/index_pages_ML/page/eaa1216_001_0000275_00341_m.xml\",\n",
    "                 \"transkribus_data/ground_truth/Iqbal_Pages_transkribus/Iqbal_Pages_transkribus/page/eaa1216_001_0000275_00342_m.xml\",\n",
    "                 \"transkribus_data/ground_truth/Iqbal_Pages_transkribus/Iqbal_Pages_transkribus/page/eaa1216_001_0000275_00343_m.xml\"]\n",
    "\n",
    "external_surnames_db = \"databases/Estonian Surname Database.txt\""
   ]
  },
  {
   "cell_type": "markdown",
   "id": "e1d15255",
   "metadata": {},
   "source": [
    "## Parse xml files"
   ]
  },
  {
   "cell_type": "code",
   "execution_count": 22,
   "id": "2e4b528a",
   "metadata": {},
   "outputs": [],
   "source": [
    "annotations = []\n",
    "\n",
    "for xml_filename in xml_filenames:\n",
    "    with open(xml_filename, \"r\") as xml_file:\n",
    "        xml_content = xml_file.read()\n",
    "        soup = BeautifulSoup(xml_content, \"lxml\")\n",
    "\n",
    "        text_lines = soup.find_all(\"textline\")\n",
    "        for data in text_lines:\n",
    "            polygon = []\n",
    "            polygon_text = data.find('coords').get('points')        \n",
    "            coord = polygon_text.split(\" \")\n",
    "            for xy in coord:\n",
    "                point = xy.split(\",\")\n",
    "                polygon.append((int(point[0]), int(point[1])))\n",
    "            # Get only text from element \"TextEquiv\". avoid \"Word\" Tag\n",
    "            for ch in data.children:\n",
    "                if ch.name == \"textequiv\":\n",
    "                    content = ch.find('unicode').get_text()\n",
    "#             print(polygon, content)\n",
    "            annotations.append({'polygon': polygon, 'content': content})"
   ]
  },
  {
   "cell_type": "code",
   "execution_count": 23,
   "id": "fb506006",
   "metadata": {},
   "outputs": [
    {
     "data": {
      "text/plain": [
       "737"
      ]
     },
     "execution_count": 23,
     "metadata": {},
     "output_type": "execute_result"
    }
   ],
   "source": [
    "indexed_names = [ann[\"content\"] for ann in annotations]\n",
    "len(indexed_names)"
   ]
  },
  {
   "cell_type": "markdown",
   "id": "d82a52ae",
   "metadata": {},
   "source": [
    "## Load additional list of surnames"
   ]
  },
  {
   "cell_type": "code",
   "execution_count": 29,
   "id": "aceea337",
   "metadata": {},
   "outputs": [],
   "source": [
    "with open(external_surnames_db, \"r\") as file:\n",
    "    external_surnames = file.readlines()"
   ]
  },
  {
   "cell_type": "code",
   "execution_count": 30,
   "id": "043d8f1e",
   "metadata": {},
   "outputs": [
    {
     "data": {
      "text/plain": [
       "300"
      ]
     },
     "execution_count": 30,
     "metadata": {},
     "output_type": "execute_result"
    }
   ],
   "source": [
    "external_surnames = [surnames.replace(\"\\n\", \"\") for surnames in external_surnames]\n",
    "external_surnames = [surnames.replace(\" \", \"\") for surnames in external_surnames]\n",
    "len(external_surnames)"
   ]
  },
  {
   "cell_type": "markdown",
   "id": "2596d2ef",
   "metadata": {},
   "source": [
    "## Merge all available data"
   ]
  },
  {
   "cell_type": "code",
   "execution_count": 31,
   "id": "c4c93c7e",
   "metadata": {},
   "outputs": [
    {
     "data": {
      "text/plain": [
       "1037"
      ]
     },
     "execution_count": 31,
     "metadata": {},
     "output_type": "execute_result"
    }
   ],
   "source": [
    "full_surnames_db = indexed_names + external_surnames\n",
    "full_surnames_db.sort()\n",
    "len(full_surnames_db)"
   ]
  },
  {
   "cell_type": "code",
   "execution_count": 28,
   "id": "3315abea",
   "metadata": {},
   "outputs": [],
   "source": [
    "with open(\"databases/final_database_estonian_surnames.txt\", \"w\") as file:\n",
    "    file.write('\\n'.join(full_surnames_db))"
   ]
  },
  {
   "cell_type": "code",
   "execution_count": null,
   "id": "bf234d3b",
   "metadata": {},
   "outputs": [],
   "source": []
  }
 ],
 "metadata": {
  "kernelspec": {
   "display_name": "Python 3 (ipykernel)",
   "language": "python",
   "name": "python3"
  },
  "language_info": {
   "codemirror_mode": {
    "name": "ipython",
    "version": 3
   },
   "file_extension": ".py",
   "mimetype": "text/x-python",
   "name": "python",
   "nbconvert_exporter": "python",
   "pygments_lexer": "ipython3",
   "version": "3.7.11"
  }
 },
 "nbformat": 4,
 "nbformat_minor": 5
}
