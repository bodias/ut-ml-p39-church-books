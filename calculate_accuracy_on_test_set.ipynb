{
 "cells": [
  {
   "cell_type": "code",
   "execution_count": 1,
   "id": "6954d936",
   "metadata": {},
   "outputs": [],
   "source": [
    "import pandas as pd\n",
    "import numpy as np\n",
    "import os\n",
    "import json\n",
    "import copy\n",
    "from functions import get_metrics"
   ]
  },
  {
   "cell_type": "markdown",
   "id": "23077c5a",
   "metadata": {},
   "source": [
    "# Compare extracted text from Transkribus with Ground Truth"
   ]
  },
  {
   "cell_type": "code",
   "execution_count": 2,
   "id": "3633c8cb",
   "metadata": {},
   "outputs": [],
   "source": [
    "with open(\"databases/ground_truth_ALL_pages.json\", \"r\") as f:\n",
    "    gt_surnames = json.load(f)"
   ]
  },
  {
   "cell_type": "code",
   "execution_count": 3,
   "id": "c22d84c9",
   "metadata": {},
   "outputs": [],
   "source": [
    "output_list = {\"Finish (base)\": \"output/baseline_finish_model.json\",\n",
    "               \"German (base)\": \"output/baseline_german_model.json\",\n",
    "               \"Estonian (base)\": \"output/baseline_estonian_model.json\",\n",
    "               \"German (ours)\": \"output/german_model_aug_v1.json\",\n",
    "               \"Estonian (ours-1)\": \"output/estonian_model_aug_v1.json\",\n",
    "               \"Estonian (ours-2)\": \"output/estonian_model_v2_4.json\"}"
   ]
  },
  {
   "cell_type": "code",
   "execution_count": 4,
   "id": "0a3b9601",
   "metadata": {
    "scrolled": false
   },
   "outputs": [
    {
     "name": "stdout",
     "output_type": "stream",
     "text": [
      "Model output/baseline_finish_model.json detected 21 surnames (0.2413793103448276)\n",
      "({'combined_matches': 21, 'db_match': 0, 'regex_match': 21}, {'combined_matches': 0.2413793103448276, 'db_match': 0.0, 'regex_match': 0.2413793103448276})\n",
      "Model output/baseline_german_model.json detected 25 surnames (0.28735632183908044)\n",
      "({'combined_matches': 25, 'db_match': 0, 'regex_match': 25}, {'combined_matches': 0.28735632183908044, 'db_match': 0.0, 'regex_match': 0.28735632183908044})\n",
      "Model output/baseline_estonian_model.json detected 5 surnames (0.05747126436781609)\n",
      "({'combined_matches': 5, 'db_match': 0, 'regex_match': 5}, {'combined_matches': 0.05747126436781609, 'db_match': 0.0, 'regex_match': 0.05747126436781609})\n",
      "Model output/german_model_aug_v1.json detected 4 surnames (0.04597701149425287)\n",
      "({'combined_matches': 4, 'db_match': 0, 'regex_match': 4}, {'combined_matches': 0.04597701149425287, 'db_match': 0.0, 'regex_match': 0.04597701149425287})\n",
      "Model output/estonian_model_aug_v1.json detected 41 surnames (0.47126436781609193)\n",
      "({'combined_matches': 41, 'db_match': 0, 'regex_match': 41}, {'combined_matches': 0.47126436781609193, 'db_match': 0.0, 'regex_match': 0.47126436781609193})\n",
      "Model output/estonian_model_v2_4.json detected 25 surnames (0.28735632183908044)\n",
      "({'combined_matches': 25, 'db_match': 0, 'regex_match': 25}, {'combined_matches': 0.28735632183908044, 'db_match': 0.0, 'regex_match': 0.28735632183908044})\n"
     ]
    }
   ],
   "source": [
    "metrics_table = pd.DataFrame()\n",
    "for model_name, transkribus_json in output_list.items():\n",
    "    with open(transkribus_json, \"r\") as json_file:\n",
    "        transkribus_extracted_data = json.load(json_file)    \n",
    "    metrics = get_metrics(transkribus_extracted_data, gt_surnames, verbose=False)\n",
    "    metrics_df = pd.DataFrame({\"model\": [model_name], \n",
    "                               \"matches\": [metrics[0]['combined_matches']] ,\n",
    "                               \"accuracy\": [metrics[1]['combined_matches']]})\n",
    "    metrics_table = pd.concat([metrics_table, metrics_df])\n",
    "    print(f\"Model {transkribus_json} detected {metrics[0]['combined_matches']} surnames ({metrics[1]['combined_matches']})\")\n",
    "    print(metrics)"
   ]
  },
  {
   "cell_type": "code",
   "execution_count": 5,
   "id": "ea89756d",
   "metadata": {},
   "outputs": [
    {
     "data": {
      "text/html": [
       "<div>\n",
       "<style scoped>\n",
       "    .dataframe tbody tr th:only-of-type {\n",
       "        vertical-align: middle;\n",
       "    }\n",
       "\n",
       "    .dataframe tbody tr th {\n",
       "        vertical-align: top;\n",
       "    }\n",
       "\n",
       "    .dataframe thead th {\n",
       "        text-align: right;\n",
       "    }\n",
       "</style>\n",
       "<table border=\"1\" class=\"dataframe\">\n",
       "  <thead>\n",
       "    <tr style=\"text-align: right;\">\n",
       "      <th></th>\n",
       "      <th>model</th>\n",
       "      <th>matches</th>\n",
       "      <th>accuracy</th>\n",
       "    </tr>\n",
       "  </thead>\n",
       "  <tbody>\n",
       "    <tr>\n",
       "      <th>0</th>\n",
       "      <td>Finish (base)</td>\n",
       "      <td>21</td>\n",
       "      <td>0.241379</td>\n",
       "    </tr>\n",
       "    <tr>\n",
       "      <th>0</th>\n",
       "      <td>German (base)</td>\n",
       "      <td>25</td>\n",
       "      <td>0.287356</td>\n",
       "    </tr>\n",
       "    <tr>\n",
       "      <th>0</th>\n",
       "      <td>Estonian (base)</td>\n",
       "      <td>5</td>\n",
       "      <td>0.057471</td>\n",
       "    </tr>\n",
       "    <tr>\n",
       "      <th>0</th>\n",
       "      <td>German (ours)</td>\n",
       "      <td>4</td>\n",
       "      <td>0.045977</td>\n",
       "    </tr>\n",
       "    <tr>\n",
       "      <th>0</th>\n",
       "      <td>Estonian (ours-1)</td>\n",
       "      <td>41</td>\n",
       "      <td>0.471264</td>\n",
       "    </tr>\n",
       "    <tr>\n",
       "      <th>0</th>\n",
       "      <td>Estonian (ours-2)</td>\n",
       "      <td>25</td>\n",
       "      <td>0.287356</td>\n",
       "    </tr>\n",
       "  </tbody>\n",
       "</table>\n",
       "</div>"
      ],
      "text/plain": [
       "               model  matches  accuracy\n",
       "0      Finish (base)       21  0.241379\n",
       "0      German (base)       25  0.287356\n",
       "0    Estonian (base)        5  0.057471\n",
       "0      German (ours)        4  0.045977\n",
       "0  Estonian (ours-1)       41  0.471264\n",
       "0  Estonian (ours-2)       25  0.287356"
      ]
     },
     "execution_count": 5,
     "metadata": {},
     "output_type": "execute_result"
    }
   ],
   "source": [
    "metrics_table"
   ]
  },
  {
   "cell_type": "code",
   "execution_count": null,
   "id": "031541c5",
   "metadata": {},
   "outputs": [],
   "source": [
    "\n"
   ]
  }
 ],
 "metadata": {
  "kernelspec": {
   "display_name": "Python 3 (ipykernel)",
   "language": "python",
   "name": "python3"
  },
  "language_info": {
   "codemirror_mode": {
    "name": "ipython",
    "version": 3
   },
   "file_extension": ".py",
   "mimetype": "text/x-python",
   "name": "python",
   "nbconvert_exporter": "python",
   "pygments_lexer": "ipython3",
   "version": "3.7.11"
  }
 },
 "nbformat": 4,
 "nbformat_minor": 5
}
