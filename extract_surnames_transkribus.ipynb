{
 "cells": [
  {
   "cell_type": "code",
   "execution_count": 1,
   "id": "e47114fa",
   "metadata": {},
   "outputs": [],
   "source": [
    "from bs4 import BeautifulSoup\n",
    "import lxml\n",
    "import pandas as pd\n",
    "import numpy as np\n",
    "from PIL import Image, ImageDraw\n",
    "import os\n",
    "import re\n",
    "from Levenshtein import distance as editdistance\n",
    "from tqdm import tqdm\n",
    "import json\n",
    "from functions import extract_text_from_transkribus, load_surnames_db, surnames_db_search, surnames_regex_search, export_results"
   ]
  },
  {
   "cell_type": "code",
   "execution_count": 2,
   "id": "e05739be",
   "metadata": {},
   "outputs": [],
   "source": [
    "folder_name = \"transkribus_data/exports/baseline_finish_model/baseline_finish_model/page/\"\n",
    "surnames_db_file = \"databases/final_database_estonian_surnames.txt\""
   ]
  },
  {
   "cell_type": "code",
   "execution_count": 3,
   "id": "3a6e847e",
   "metadata": {},
   "outputs": [],
   "source": [
    "extracted_text = extract_text_from_transkribus(folder_name)"
   ]
  },
  {
   "cell_type": "code",
   "execution_count": 4,
   "id": "19ed1d0a",
   "metadata": {},
   "outputs": [],
   "source": [
    "surnames_db = load_surnames_db(surnames_db_file)"
   ]
  },
  {
   "cell_type": "code",
   "execution_count": 11,
   "id": "778ddd59",
   "metadata": {},
   "outputs": [
    {
     "name": "stderr",
     "output_type": "stream",
     "text": [
      "100%|███████████████████████████████████████████| 8/8 [00:00<00:00, 8806.94it/s]\n"
     ]
    }
   ],
   "source": [
    "surnames_list_regex = surnames_regex_search(extracted_text)"
   ]
  },
  {
   "cell_type": "code",
   "execution_count": 16,
   "id": "396f8fdc",
   "metadata": {},
   "outputs": [
    {
     "data": {
      "text/plain": [
       "{19: [{'page_no': 19,\n",
       "   'detected_surname': 'Osker',\n",
       "   'matches': [{'surname': 'Baagimae Ting Osker', 'lev_distance': 0}]},\n",
       "  {'page_no': 19,\n",
       "   'detected_surname': 'Nimmertelot',\n",
       "   'matches': [{'surname': 'Baxa Maderse Mihuel Nimmertelot',\n",
       "     'lev_distance': 0}]},\n",
       "  {'page_no': 19,\n",
       "   'detected_surname': 'Liisu',\n",
       "   'matches': [{'surname': 'Juhan Aransson Lesk Liisu', 'lev_distance': 0}]},\n",
       "  {'page_no': 19,\n",
       "   'detected_surname': 'Alaamashan',\n",
       "   'matches': [{'surname': 'Bardsaars Johan Alaamashan', 'lev_distance': 0}]},\n",
       "  {'page_no': 19,\n",
       "   'detected_surname': 'Pdärvain',\n",
       "   'matches': [{'surname': 'Siixi Tonu Pdärvain', 'lev_distance': 0}]}],\n",
       " 27: [{'page_no': 27,\n",
       "   'detected_surname': 'Ar',\n",
       "   'matches': [{'surname': 'C Ar', 'lev_distance': 0}]},\n",
       "  {'page_no': 27,\n",
       "   'detected_surname': 'Han',\n",
       "   'matches': [{'surname': 'M. Han', 'lev_distance': 0}]},\n",
       "  {'page_no': 27,\n",
       "   'detected_surname': 'Wiilmeister',\n",
       "   'matches': [{'surname': 'Kallepöllu Tini Wiilmeister', 'lev_distance': 0}]},\n",
       "  {'page_no': 27,\n",
       "   'detected_surname': 'Muugamal',\n",
       "   'matches': [{'surname': 'Upuraa Sur Muugamal', 'lev_distance': 0}]},\n",
       "  {'page_no': 27,\n",
       "   'detected_surname': 'Lep',\n",
       "   'matches': [{'surname': 'Koluoja Hansa Lep ll', 'lev_distance': 0}]}],\n",
       " 68: [{'page_no': 68,\n",
       "   'detected_surname': 'Lalgar',\n",
       "   'matches': [{'surname': 'Länne Kaarel Lalgar', 'lev_distance': 0}]},\n",
       "  {'page_no': 68,\n",
       "   'detected_surname': 'Kuusk',\n",
       "   'matches': [{'surname': 'Liva Taan Kuusk', 'lev_distance': 0}]},\n",
       "  {'page_no': 68,\n",
       "   'detected_surname': 'Maria',\n",
       "   'matches': [{'surname': 'G Anna Maria', 'lev_distance': 0}]},\n",
       "  {'page_no': 68,\n",
       "   'detected_surname': 'Lan',\n",
       "   'matches': [{'surname': 'Männiku Saan Lan', 'lev_distance': 0}]}],\n",
       " 8: [{'page_no': 8,\n",
       "   'detected_surname': 'Laurentus',\n",
       "   'matches': [{'surname': 'Ondnae Saan Laurentus', 'lev_distance': 0}]},\n",
       "  {'page_no': 8,\n",
       "   'detected_surname': 'Siuurman',\n",
       "   'matches': [{'surname': 'Sahemena Soosep Siuurman', 'lev_distance': 0}]},\n",
       "  {'page_no': 8,\n",
       "   'detected_surname': 'Auo',\n",
       "   'matches': [{'surname': 'M. Auo', 'lev_distance': 0}]}],\n",
       " 74: [{'page_no': 74,\n",
       "   'detected_surname': 'Kruusberg',\n",
       "   'matches': [{'surname': 'Araha Hans Kruusberg', 'lev_distance': 0}]},\n",
       "  {'page_no': 74,\n",
       "   'detected_surname': 'Siir',\n",
       "   'matches': [{'surname': 'Binriku Toru Siir', 'lev_distance': 0}]},\n",
       "  {'page_no': 74,\n",
       "   'detected_surname': 'Bt',\n",
       "   'matches': [{'surname': 'Kit Bt', 'lev_distance': 0}]}],\n",
       " 57: [{'page_no': 57,\n",
       "   'detected_surname': 'Mustiin',\n",
       "   'matches': [{'surname': 'Rubia Aabram Mustiin', 'lev_distance': 0}]},\n",
       "  {'page_no': 57,\n",
       "   'detected_surname': 'Kommas',\n",
       "   'matches': [{'surname': 'Ruure Thannes Kommas', 'lev_distance': 0}]},\n",
       "  {'page_no': 57,\n",
       "   'detected_surname': 'Aruusberg',\n",
       "   'matches': [{'surname': 'Arill Svrg Aruusberg', 'lev_distance': 0}]},\n",
       "  {'page_no': 57,\n",
       "   'detected_surname': 'Klenket',\n",
       "   'matches': [{'surname': 'Piidik Klenket', 'lev_distance': 0}]}],\n",
       " 46: [{'page_no': 46,\n",
       "   'detected_surname': 'Tito',\n",
       "   'matches': [{'surname': 'Algs Tito', 'lev_distance': 0}]},\n",
       "  {'page_no': 46,\n",
       "   'detected_surname': 'Esnar',\n",
       "   'matches': [{'surname': 'Tammesori Iran Esnar', 'lev_distance': 0}]},\n",
       "  {'page_no': 46,\n",
       "   'detected_surname': 'Saaberg',\n",
       "   'matches': [{'surname': 'Torndangel Hans Saaberg', 'lev_distance': 0}]},\n",
       "  {'page_no': 46,\n",
       "   'detected_surname': 'Nio',\n",
       "   'matches': [{'surname': 'Anna Nio', 'lev_distance': 0}]},\n",
       "  {'page_no': 46,\n",
       "   'detected_surname': 'Af',\n",
       "   'matches': [{'surname': 'Juhani Af', 'lev_distance': 0}]},\n",
       "  {'page_no': 46,\n",
       "   'detected_surname': 'Ko',\n",
       "   'matches': [{'surname': 'Teuternen Ko', 'lev_distance': 0}]},\n",
       "  {'page_no': 46,\n",
       "   'detected_surname': 'Tuvert',\n",
       "   'matches': [{'surname': 'Alloa Tirg Tuvert', 'lev_distance': 0}]},\n",
       "  {'page_no': 46,\n",
       "   'detected_surname': 'Tensk',\n",
       "   'matches': [{'surname': 'A. Maunus Tensk', 'lev_distance': 0}]},\n",
       "  {'page_no': 46,\n",
       "   'detected_surname': 'Kurlin',\n",
       "   'matches': [{'surname': 'Waga Andus Kurlin', 'lev_distance': 0}]}],\n",
       " 29: [{'page_no': 29,\n",
       "   'detected_surname': 'Kaguransa',\n",
       "   'matches': [{'surname': 'Suroja Saaru Kaguransa', 'lev_distance': 0}]},\n",
       "  {'page_no': 29,\n",
       "   'detected_surname': 'Somander',\n",
       "   'matches': [{'surname': 'Mart Somander', 'lev_distance': 0}]},\n",
       "  {'page_no': 29,\n",
       "   'detected_surname': 'Svomber',\n",
       "   'matches': [{'surname': 'Suri Svomber', 'lev_distance': 0}]},\n",
       "  {'page_no': 29,\n",
       "   'detected_surname': 'Sarakas',\n",
       "   'matches': [{'surname': 'Pasuhlu Sron Sarakas', 'lev_distance': 0}]},\n",
       "  {'page_no': 29,\n",
       "   'detected_surname': 'Muugamai',\n",
       "   'matches': [{'surname': 'Sasihu Saar Muugamai', 'lev_distance': 0}]},\n",
       "  {'page_no': 29,\n",
       "   'detected_surname': 'Turgan',\n",
       "   'matches': [{'surname': 'Wästrinu Mart Turgan', 'lev_distance': 0}]},\n",
       "  {'page_no': 29,\n",
       "   'detected_surname': 'Marta',\n",
       "   'matches': [{'surname': 'Tomander Marta', 'lev_distance': 0}]}]}"
      ]
     },
     "execution_count": 16,
     "metadata": {},
     "output_type": "execute_result"
    }
   ],
   "source": [
    "surnames_list_regex"
   ]
  },
  {
   "cell_type": "code",
   "execution_count": 12,
   "id": "2a4a9ea2",
   "metadata": {},
   "outputs": [
    {
     "name": "stderr",
     "output_type": "stream",
     "text": [
      "100%|█████████████████████████████████████████████| 8/8 [00:00<00:00, 15.80it/s]\n",
      "INFO:root:8 possible surnames found!\n"
     ]
    }
   ],
   "source": [
    "surnames_list_db = surnames_db_search(extracted_text, surnames_db)"
   ]
  },
  {
   "cell_type": "code",
   "execution_count": 17,
   "id": "7a29ae9e",
   "metadata": {},
   "outputs": [
    {
     "data": {
      "text/plain": [
       "{19: [{'page_no': 19,\n",
       "   'detected_surname': 'Bara',\n",
       "   'matches': [{'surname': 'Barn', 'lev_distance': 1}]},\n",
       "  {'page_no': 19,\n",
       "   'detected_surname': 'Miy',\n",
       "   'matches': [{'surname': 'Mit', 'lev_distance': 1},\n",
       "    {'surname': 'Mit', 'lev_distance': 1}]}],\n",
       " 27: [{'page_no': 27,\n",
       "   'detected_surname': 'Saan',\n",
       "   'matches': [{'surname': 'Laan', 'lev_distance': 1},\n",
       "    {'surname': 'Saar', 'lev_distance': 1}]}],\n",
       " 68: [{'page_no': 68,\n",
       "   'detected_surname': 'Lambut',\n",
       "   'matches': [{'surname': 'Lambut', 'lev_distance': 0},\n",
       "    {'surname': 'Lambut', 'lev_distance': 0},\n",
       "    {'surname': 'Lambut', 'lev_distance': 0},\n",
       "    {'surname': 'Lambut', 'lev_distance': 0}]},\n",
       "  {'page_no': 68,\n",
       "   'detected_surname': 'killi',\n",
       "   'matches': [{'surname': 'Pilli', 'lev_distance': 1}]},\n",
       "  {'page_no': 68,\n",
       "   'detected_surname': 'kitt',\n",
       "   'matches': [{'surname': 'Mitt', 'lev_distance': 1}]},\n",
       "  {'page_no': 68,\n",
       "   'detected_surname': 'Kin:',\n",
       "   'matches': [{'surname': 'King', 'lev_distance': 1},\n",
       "    {'surname': 'Kink', 'lev_distance': 1}]}],\n",
       " 8: [{'page_no': 8,\n",
       "   'detected_surname': 'Kivi',\n",
       "   'matches': [{'surname': 'Kivi', 'lev_distance': 0}]}],\n",
       " 74: [{'page_no': 74,\n",
       "   'detected_surname': 'ant',\n",
       "   'matches': [{'surname': 'Unt', 'lev_distance': 1}]},\n",
       "  {'page_no': 74,\n",
       "   'detected_surname': 'Ku4',\n",
       "   'matches': [{'surname': 'Kus', 'lev_distance': 1}]},\n",
       "  {'page_no': 74,\n",
       "   'detected_surname': 'Marl',\n",
       "   'matches': [{'surname': 'Mark', 'lev_distance': 1}]}],\n",
       " 57: [{'page_no': 57,\n",
       "   'detected_surname': 'Pells',\n",
       "   'matches': [{'surname': 'Pellis', 'lev_distance': 1}]},\n",
       "  {'page_no': 57,\n",
       "   'detected_surname': 'nen',\n",
       "   'matches': [{'surname': 'Pen', 'lev_distance': 1}]}],\n",
       " 46: [{'page_no': 46,\n",
       "   'detected_surname': 'Nur',\n",
       "   'matches': [{'surname': 'Nurk', 'lev_distance': 1},\n",
       "    {'surname': 'Nurk', 'lev_distance': 1}]},\n",
       "  {'page_no': 46,\n",
       "   'detected_surname': 'frt',\n",
       "   'matches': [{'surname': 'Art', 'lev_distance': 1}]},\n",
       "  {'page_no': 46,\n",
       "   'detected_surname': 'Hit',\n",
       "   'matches': [{'surname': 'Mit', 'lev_distance': 1},\n",
       "    {'surname': 'Mit', 'lev_distance': 1}]}],\n",
       " 29: [{'page_no': 29,\n",
       "   'detected_surname': 'Liih',\n",
       "   'matches': [{'surname': 'Liiv', 'lev_distance': 1}]},\n",
       "  {'page_no': 29,\n",
       "   'detected_surname': 'Leen',\n",
       "   'matches': [{'surname': 'Lee', 'lev_distance': 1},\n",
       "    {'surname': 'Peen', 'lev_distance': 1}]},\n",
       "  {'page_no': 29,\n",
       "   'detected_surname': 'Turg',\n",
       "   'matches': [{'surname': 'Kurg', 'lev_distance': 1},\n",
       "    {'surname': 'Kurg', 'lev_distance': 1}]},\n",
       "  {'page_no': 29,\n",
       "   'detected_surname': 'Jor',\n",
       "   'matches': [{'surname': 'Jom', 'lev_distance': 1}]},\n",
       "  {'page_no': 29,\n",
       "   'detected_surname': 'Tooma',\n",
       "   'matches': [{'surname': 'Toom', 'lev_distance': 1},\n",
       "    {'surname': 'Toome', 'lev_distance': 1}]},\n",
       "  {'page_no': 29,\n",
       "   'detected_surname': 'Peme',\n",
       "   'matches': [{'surname': 'Pere', 'lev_distance': 1}]},\n",
       "  {'page_no': 29,\n",
       "   'detected_surname': 'sus',\n",
       "   'matches': [{'surname': 'Aus', 'lev_distance': 1},\n",
       "    {'surname': 'Kus', 'lev_distance': 1},\n",
       "    {'surname': 'Ous', 'lev_distance': 1}]},\n",
       "  {'page_no': 29,\n",
       "   'detected_surname': 'Ees',\n",
       "   'matches': [{'surname': 'Les', 'lev_distance': 1}]}]}"
      ]
     },
     "execution_count": 17,
     "metadata": {},
     "output_type": "execute_result"
    }
   ],
   "source": [
    "surnames_list_db"
   ]
  },
  {
   "cell_type": "code",
   "execution_count": null,
   "id": "d07528a4",
   "metadata": {},
   "outputs": [],
   "source": [
    "# img = Image.open(img_filename).convert('RGB')\n",
    "# img_draw = ImageDraw.Draw(img)\n",
    "# for ann in annotations:\n",
    "#     img_draw.polygon(ann['polygon'])\n",
    "# img"
   ]
  },
  {
   "cell_type": "code",
   "execution_count": null,
   "id": "3fffdb16",
   "metadata": {},
   "outputs": [],
   "source": []
  }
 ],
 "metadata": {
  "kernelspec": {
   "display_name": "Python 3 (ipykernel)",
   "language": "python",
   "name": "python3"
  },
  "language_info": {
   "codemirror_mode": {
    "name": "ipython",
    "version": 3
   },
   "file_extension": ".py",
   "mimetype": "text/x-python",
   "name": "python",
   "nbconvert_exporter": "python",
   "pygments_lexer": "ipython3",
   "version": "3.7.11"
  }
 },
 "nbformat": 4,
 "nbformat_minor": 5
}
